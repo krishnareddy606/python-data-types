{
 "cells": [
  {
   "cell_type": "markdown",
   "id": "b2cbe294-cb44-48b1-9ffb-46a7faadf89d",
   "metadata": {},
   "source": [
    "while\n"
   ]
  },
  {
   "cell_type": "markdown",
   "id": "0f58b009-55d7-4963-a2b2-b8cd1cf296ca",
   "metadata": {},
   "source": [
    "for"
   ]
  },
  {
   "cell_type": "code",
   "execution_count": 5,
   "id": "0799508a-cf68-46a6-baae-36dc53f2fb06",
   "metadata": {},
   "outputs": [
    {
     "name": "stdout",
     "output_type": "stream",
     "text": [
      "data\n",
      "data\n",
      "data\n",
      "data\n",
      "data\n",
      "data\n"
     ]
    }
   ],
   "source": [
    "print(\"data\")\n",
    "print(\"data\")\n",
    "print(\"data\")\n",
    "print(\"data\")\n",
    "print(\"data\")\n",
    "print(\"data\")"
   ]
  },
  {
   "cell_type": "code",
   "execution_count": 3,
   "id": "381c6d08-aef1-4a03-bf1a-a0552e5fa6e5",
   "metadata": {},
   "outputs": [
    {
     "name": "stdout",
     "output_type": "stream",
     "text": [
      "yes\n",
      "yes\n",
      "yes\n",
      "yes\n",
      "yes\n"
     ]
    }
   ],
   "source": [
    "x=5\n",
    "while x<10:\n",
    "    print('yes')\n",
    "    x+=1"
   ]
  },
  {
   "cell_type": "code",
   "execution_count": 15,
   "id": "7c44b2d3-117f-4382-bfeb-11619e415a9e",
   "metadata": {},
   "outputs": [
    {
     "name": "stdout",
     "output_type": "stream",
     "text": [
      "yes 5\n",
      "yes 6\n",
      "yes 7\n",
      "yes 8\n",
      "yes 9\n",
      "yes 10\n",
      "yes 11\n",
      "yes 12\n",
      "yes 13\n",
      "yes 14\n",
      "yes 15\n",
      "yes 16\n",
      "yes 17\n",
      "yes 18\n",
      "yes 19\n"
     ]
    }
   ],
   "source": [
    "x=5\n",
    "while x<20:\n",
    "    print('yes',x)\n",
    "    x=x+1"
   ]
  },
  {
   "cell_type": "code",
   "execution_count": null,
   "id": "85c049dd-fc1f-4aa0-a651-01f42145a5e8",
   "metadata": {},
   "outputs": [],
   "source": [
    "x=x+1"
   ]
  },
  {
   "cell_type": "code",
   "execution_count": 17,
   "id": "4ae769d6-1243-4d14-8009-ca28a7a475a0",
   "metadata": {},
   "outputs": [
    {
     "data": {
      "text/plain": [
       "[40, 20, 80, 50, 30, 60, 90]"
      ]
     },
     "execution_count": 17,
     "metadata": {},
     "output_type": "execute_result"
    }
   ],
   "source": [
    "y=[40,20,80,50,30,60,90]\n",
    "y"
   ]
  },
  {
   "cell_type": "code",
   "execution_count": 19,
   "id": "05b941e8-e7e0-4203-98f9-1ddba543ca8c",
   "metadata": {},
   "outputs": [
    {
     "data": {
      "text/plain": [
       "[40,\n",
       " 20,\n",
       " 80,\n",
       " 50,\n",
       " 30,\n",
       " 60,\n",
       " 90,\n",
       " 40,\n",
       " 20,\n",
       " 80,\n",
       " 50,\n",
       " 30,\n",
       " 60,\n",
       " 90,\n",
       " 40,\n",
       " 20,\n",
       " 80,\n",
       " 50,\n",
       " 30,\n",
       " 60,\n",
       " 90,\n",
       " 40,\n",
       " 20,\n",
       " 80,\n",
       " 50,\n",
       " 30,\n",
       " 60,\n",
       " 90,\n",
       " 40,\n",
       " 20,\n",
       " 80,\n",
       " 50,\n",
       " 30,\n",
       " 60,\n",
       " 90,\n",
       " 40,\n",
       " 20,\n",
       " 80,\n",
       " 50,\n",
       " 30,\n",
       " 60,\n",
       " 90,\n",
       " 40,\n",
       " 20,\n",
       " 80,\n",
       " 50,\n",
       " 30,\n",
       " 60,\n",
       " 90,\n",
       " 40,\n",
       " 20,\n",
       " 80,\n",
       " 50,\n",
       " 30,\n",
       " 60,\n",
       " 90,\n",
       " 40,\n",
       " 20,\n",
       " 80,\n",
       " 50,\n",
       " 30,\n",
       " 60,\n",
       " 90,\n",
       " 40,\n",
       " 20,\n",
       " 80,\n",
       " 50,\n",
       " 30,\n",
       " 60,\n",
       " 90,\n",
       " 40,\n",
       " 20,\n",
       " 80,\n",
       " 50,\n",
       " 30,\n",
       " 60,\n",
       " 90,\n",
       " 40,\n",
       " 20,\n",
       " 80,\n",
       " 50,\n",
       " 30,\n",
       " 60,\n",
       " 90,\n",
       " 40,\n",
       " 20,\n",
       " 80,\n",
       " 50,\n",
       " 30,\n",
       " 60,\n",
       " 90,\n",
       " 40,\n",
       " 20,\n",
       " 80,\n",
       " 50,\n",
       " 30,\n",
       " 60,\n",
       " 90,\n",
       " 40,\n",
       " 20,\n",
       " 80,\n",
       " 50,\n",
       " 30,\n",
       " 60,\n",
       " 90,\n",
       " 40,\n",
       " 20,\n",
       " 80,\n",
       " 50,\n",
       " 30,\n",
       " 60,\n",
       " 90,\n",
       " 40,\n",
       " 20,\n",
       " 80,\n",
       " 50,\n",
       " 30,\n",
       " 60,\n",
       " 90,\n",
       " 40,\n",
       " 20,\n",
       " 80,\n",
       " 50,\n",
       " 30,\n",
       " 60,\n",
       " 90,\n",
       " 40,\n",
       " 20,\n",
       " 80,\n",
       " 50,\n",
       " 30,\n",
       " 60,\n",
       " 90,\n",
       " 40,\n",
       " 20,\n",
       " 80,\n",
       " 50,\n",
       " 30,\n",
       " 60,\n",
       " 90,\n",
       " 40,\n",
       " 20,\n",
       " 80,\n",
       " 50,\n",
       " 30,\n",
       " 60,\n",
       " 90,\n",
       " 40,\n",
       " 20,\n",
       " 80,\n",
       " 50,\n",
       " 30,\n",
       " 60,\n",
       " 90,\n",
       " 40,\n",
       " 20,\n",
       " 80,\n",
       " 50,\n",
       " 30,\n",
       " 60,\n",
       " 90,\n",
       " 40,\n",
       " 20,\n",
       " 80,\n",
       " 50,\n",
       " 30,\n",
       " 60,\n",
       " 90,\n",
       " 40,\n",
       " 20,\n",
       " 80,\n",
       " 50,\n",
       " 30,\n",
       " 60,\n",
       " 90,\n",
       " 40,\n",
       " 20,\n",
       " 80,\n",
       " 50,\n",
       " 30,\n",
       " 60,\n",
       " 90,\n",
       " 40,\n",
       " 20,\n",
       " 80,\n",
       " 50,\n",
       " 30,\n",
       " 60,\n",
       " 90,\n",
       " 40,\n",
       " 20,\n",
       " 80,\n",
       " 50,\n",
       " 30,\n",
       " 60,\n",
       " 90,\n",
       " 40,\n",
       " 20,\n",
       " 80,\n",
       " 50,\n",
       " 30,\n",
       " 60,\n",
       " 90,\n",
       " 40,\n",
       " 20,\n",
       " 80,\n",
       " 50,\n",
       " 30,\n",
       " 60,\n",
       " 90,\n",
       " 40,\n",
       " 20,\n",
       " 80,\n",
       " 50,\n",
       " 30,\n",
       " 60,\n",
       " 90,\n",
       " 40,\n",
       " 20,\n",
       " 80,\n",
       " 50,\n",
       " 30,\n",
       " 60,\n",
       " 90,\n",
       " 40,\n",
       " 20,\n",
       " 80,\n",
       " 50,\n",
       " 30,\n",
       " 60,\n",
       " 90,\n",
       " 40,\n",
       " 20,\n",
       " 80,\n",
       " 50,\n",
       " 30,\n",
       " 60,\n",
       " 90,\n",
       " 40,\n",
       " 20,\n",
       " 80,\n",
       " 50,\n",
       " 30,\n",
       " 60,\n",
       " 90,\n",
       " 40,\n",
       " 20,\n",
       " 80,\n",
       " 50,\n",
       " 30,\n",
       " 60,\n",
       " 90,\n",
       " 40,\n",
       " 20,\n",
       " 80,\n",
       " 50,\n",
       " 30,\n",
       " 60,\n",
       " 90,\n",
       " 40,\n",
       " 20,\n",
       " 80,\n",
       " 50,\n",
       " 30,\n",
       " 60,\n",
       " 90,\n",
       " 40,\n",
       " 20,\n",
       " 80,\n",
       " 50,\n",
       " 30,\n",
       " 60,\n",
       " 90,\n",
       " 40,\n",
       " 20,\n",
       " 80,\n",
       " 50,\n",
       " 30,\n",
       " 60,\n",
       " 90,\n",
       " 40,\n",
       " 20,\n",
       " 80,\n",
       " 50,\n",
       " 30,\n",
       " 60,\n",
       " 90,\n",
       " 40,\n",
       " 20,\n",
       " 80,\n",
       " 50,\n",
       " 30,\n",
       " 60,\n",
       " 90,\n",
       " 40,\n",
       " 20,\n",
       " 80,\n",
       " 50,\n",
       " 30,\n",
       " 60,\n",
       " 90,\n",
       " 40,\n",
       " 20,\n",
       " 80,\n",
       " 50,\n",
       " 30,\n",
       " 60,\n",
       " 90,\n",
       " 40,\n",
       " 20,\n",
       " 80,\n",
       " 50,\n",
       " 30,\n",
       " 60,\n",
       " 90,\n",
       " 40,\n",
       " 20,\n",
       " 80,\n",
       " 50,\n",
       " 30,\n",
       " 60,\n",
       " 90,\n",
       " 40,\n",
       " 20,\n",
       " 80,\n",
       " 50,\n",
       " 30,\n",
       " 60,\n",
       " 90,\n",
       " 40,\n",
       " 20,\n",
       " 80,\n",
       " 50,\n",
       " 30,\n",
       " 60,\n",
       " 90,\n",
       " 40,\n",
       " 20,\n",
       " 80,\n",
       " 50,\n",
       " 30,\n",
       " 60,\n",
       " 90,\n",
       " 40,\n",
       " 20,\n",
       " 80,\n",
       " 50,\n",
       " 30,\n",
       " 60,\n",
       " 90,\n",
       " 40,\n",
       " 20,\n",
       " 80,\n",
       " 50,\n",
       " 30,\n",
       " 60,\n",
       " 90,\n",
       " 40,\n",
       " 20,\n",
       " 80,\n",
       " 50,\n",
       " 30,\n",
       " 60,\n",
       " 90,\n",
       " 40,\n",
       " 20,\n",
       " 80,\n",
       " 50,\n",
       " 30,\n",
       " 60,\n",
       " 90,\n",
       " 40,\n",
       " 20,\n",
       " 80,\n",
       " 50,\n",
       " 30,\n",
       " 60,\n",
       " 90,\n",
       " 40,\n",
       " 20,\n",
       " 80,\n",
       " 50,\n",
       " 30,\n",
       " 60,\n",
       " 90,\n",
       " 40,\n",
       " 20,\n",
       " 80,\n",
       " 50,\n",
       " 30,\n",
       " 60,\n",
       " 90,\n",
       " 40,\n",
       " 20,\n",
       " 80,\n",
       " 50,\n",
       " 30,\n",
       " 60,\n",
       " 90,\n",
       " 40,\n",
       " 20,\n",
       " 80,\n",
       " 50,\n",
       " 30,\n",
       " 60,\n",
       " 90,\n",
       " 40,\n",
       " 20,\n",
       " 80,\n",
       " 50,\n",
       " 30,\n",
       " 60,\n",
       " 90,\n",
       " 40,\n",
       " 20,\n",
       " 80,\n",
       " 50,\n",
       " 30,\n",
       " 60,\n",
       " 90,\n",
       " 40,\n",
       " 20,\n",
       " 80,\n",
       " 50,\n",
       " 30,\n",
       " 60,\n",
       " 90,\n",
       " 40,\n",
       " 20,\n",
       " 80,\n",
       " 50,\n",
       " 30,\n",
       " 60,\n",
       " 90,\n",
       " 40,\n",
       " 20,\n",
       " 80,\n",
       " 50,\n",
       " 30,\n",
       " 60,\n",
       " 90,\n",
       " 40,\n",
       " 20,\n",
       " 80,\n",
       " 50,\n",
       " 30,\n",
       " 60,\n",
       " 90,\n",
       " 40,\n",
       " 20,\n",
       " 80,\n",
       " 50,\n",
       " 30,\n",
       " 60,\n",
       " 90,\n",
       " 40,\n",
       " 20,\n",
       " 80,\n",
       " 50,\n",
       " 30,\n",
       " 60,\n",
       " 90,\n",
       " 40,\n",
       " 20,\n",
       " 80,\n",
       " 50,\n",
       " 30,\n",
       " 60,\n",
       " 90,\n",
       " 40,\n",
       " 20,\n",
       " 80,\n",
       " 50,\n",
       " 30,\n",
       " 60,\n",
       " 90,\n",
       " 40,\n",
       " 20,\n",
       " 80,\n",
       " 50,\n",
       " 30,\n",
       " 60,\n",
       " 90,\n",
       " 40,\n",
       " 20,\n",
       " 80,\n",
       " 50,\n",
       " 30,\n",
       " 60,\n",
       " 90,\n",
       " 40,\n",
       " 20,\n",
       " 80,\n",
       " 50,\n",
       " 30,\n",
       " 60,\n",
       " 90,\n",
       " 40,\n",
       " 20,\n",
       " 80,\n",
       " 50,\n",
       " 30,\n",
       " 60,\n",
       " 90,\n",
       " 40,\n",
       " 20,\n",
       " 80,\n",
       " 50,\n",
       " 30,\n",
       " 60,\n",
       " 90,\n",
       " 40,\n",
       " 20,\n",
       " 80,\n",
       " 50,\n",
       " 30,\n",
       " 60,\n",
       " 90,\n",
       " 40,\n",
       " 20,\n",
       " 80,\n",
       " 50,\n",
       " 30,\n",
       " 60,\n",
       " 90,\n",
       " 40,\n",
       " 20,\n",
       " 80,\n",
       " 50,\n",
       " 30,\n",
       " 60,\n",
       " 90,\n",
       " 40,\n",
       " 20,\n",
       " 80,\n",
       " 50,\n",
       " 30,\n",
       " 60,\n",
       " 90,\n",
       " 40,\n",
       " 20,\n",
       " 80,\n",
       " 50,\n",
       " 30,\n",
       " 60,\n",
       " 90,\n",
       " 40,\n",
       " 20,\n",
       " 80,\n",
       " 50,\n",
       " 30,\n",
       " 60,\n",
       " 90,\n",
       " 40,\n",
       " 20,\n",
       " 80,\n",
       " 50,\n",
       " 30,\n",
       " 60,\n",
       " 90,\n",
       " 40,\n",
       " 20,\n",
       " 80,\n",
       " 50,\n",
       " 30,\n",
       " 60,\n",
       " 90,\n",
       " 40,\n",
       " 20,\n",
       " 80,\n",
       " 50,\n",
       " 30,\n",
       " 60,\n",
       " 90,\n",
       " 40,\n",
       " 20,\n",
       " 80,\n",
       " 50,\n",
       " 30,\n",
       " 60,\n",
       " 90,\n",
       " 40,\n",
       " 20,\n",
       " 80,\n",
       " 50,\n",
       " 30,\n",
       " 60,\n",
       " 90,\n",
       " 40,\n",
       " 20,\n",
       " 80,\n",
       " 50,\n",
       " 30,\n",
       " 60,\n",
       " 90]"
      ]
     },
     "execution_count": 19,
     "metadata": {},
     "output_type": "execute_result"
    }
   ],
   "source": [
    "y*85"
   ]
  },
  {
   "cell_type": "code",
   "execution_count": 21,
   "id": "1aa1b6df-db61-491d-88d4-5fadbd7ce95a",
   "metadata": {},
   "outputs": [
    {
     "name": "stdout",
     "output_type": "stream",
     "text": [
      "[40, 20, 80, 50, 30, 60, 90]\n"
     ]
    }
   ],
   "source": [
    "print(y)"
   ]
  },
  {
   "cell_type": "code",
   "execution_count": 23,
   "id": "90a61116-645b-4f89-9144-dc1bfd9008f1",
   "metadata": {},
   "outputs": [
    {
     "name": "stdout",
     "output_type": "stream",
     "text": [
      "3400\n",
      "1700\n",
      "6800\n",
      "4250\n",
      "2550\n",
      "5100\n",
      "7650\n"
     ]
    }
   ],
   "source": [
    "for t in y:\n",
    "    print(t*85)"
   ]
  },
  {
   "cell_type": "code",
   "execution_count": 29,
   "id": "21c632f6-d8b0-473c-8b8b-b32f9e4ed320",
   "metadata": {},
   "outputs": [
    {
     "data": {
      "text/plain": [
       "329"
      ]
     },
     "execution_count": 29,
     "metadata": {},
     "output_type": "execute_result"
    }
   ],
   "source": [
    "40*8+9"
   ]
  },
  {
   "cell_type": "code",
   "execution_count": 31,
   "id": "c58ac0ee-f656-4c13-badb-9ee72c6a9abf",
   "metadata": {},
   "outputs": [
    {
     "name": "stdout",
     "output_type": "stream",
     "text": [
      "329\n"
     ]
    }
   ],
   "source": [
    "print(40*8+9)"
   ]
  },
  {
   "cell_type": "code",
   "execution_count": 37,
   "id": "01b11b49-56b2-4f6e-bb6c-984749672dee",
   "metadata": {},
   "outputs": [
    {
     "name": "stdout",
     "output_type": "stream",
     "text": [
      "1803\n",
      "903\n",
      "3603\n",
      "2253\n",
      "1353\n",
      "2703\n",
      "4053\n"
     ]
    }
   ],
   "source": [
    "for t in y:\n",
    "    print(t*45+3)"
   ]
  },
  {
   "cell_type": "code",
   "execution_count": 43,
   "id": "6797e7a2-3fc0-4824-a004-10d3a79e5395",
   "metadata": {},
   "outputs": [],
   "source": [
    "z=[]\n",
    "for i in y:\n",
    "    z.append(i*5+10)"
   ]
  },
  {
   "cell_type": "code",
   "execution_count": 45,
   "id": "34a62b39-df96-4991-a855-b4912a384f5d",
   "metadata": {},
   "outputs": [
    {
     "data": {
      "text/plain": [
       "[210, 110, 410, 260, 160, 310, 460]"
      ]
     },
     "execution_count": 45,
     "metadata": {},
     "output_type": "execute_result"
    }
   ],
   "source": [
    "z"
   ]
  },
  {
   "cell_type": "code",
   "execution_count": 47,
   "id": "1d642c05-b6e7-49a8-aae1-f2ca10ad7afa",
   "metadata": {},
   "outputs": [
    {
     "data": {
      "text/plain": [
       "[31, 45, 66, 33, 90, 78, 67, 87, 89, 93, 25, 59, 9, 81]"
      ]
     },
     "execution_count": 47,
     "metadata": {},
     "output_type": "execute_result"
    }
   ],
   "source": [
    "num=[31,45,66,33,90,78,67,87,89,93,25,59,9,81]\n",
    "num"
   ]
  },
  {
   "cell_type": "code",
   "execution_count": 54,
   "id": "70ae2569-1160-41ad-91d4-2903086c0d29",
   "metadata": {},
   "outputs": [
    {
     "name": "stdout",
     "output_type": "stream",
     "text": [
      "Even number: [66, 90, 78]\n",
      "Odd number: [31, 45, 33, 67, 87, 89, 93, 25, 59, 9, 81]\n"
     ]
    }
   ],
   "source": [
    "num=[31,45,66,33,90,78,67,87,89,93,25,59,9,81]\n",
    "even = [n for n in num if n % 2 == 0]\n",
    "odd = [n for n in num if n % 2 != 0]\n",
    "print(\"Even number:\",even)\n",
    "print(\"Odd number:\",odd)"
   ]
  },
  {
   "cell_type": "code",
   "execution_count": 56,
   "id": "8c2cd33d-94d6-4926-8608-046bdc97a33f",
   "metadata": {},
   "outputs": [
    {
     "data": {
      "text/plain": [
       "[31, 45, 66, 33, 90, 78, 67, 87, 89, 93, 25, 59, 9, 81]"
      ]
     },
     "execution_count": 56,
     "metadata": {},
     "output_type": "execute_result"
    }
   ],
   "source": [
    "num"
   ]
  },
  {
   "cell_type": "code",
   "execution_count": 58,
   "id": "d55da25b-2561-4f12-bf9e-95fe634c6f0d",
   "metadata": {},
   "outputs": [],
   "source": [
    "num=[12,13,14,15,16,17,18,19]\n",
    "j=[]\n",
    "k=[]\n",
    "for i in num:\n",
    "    if i%2==0:\n",
    "        j.append(i)\n",
    "    else:\n",
    "        k.append(i)"
   ]
  },
  {
   "cell_type": "code",
   "execution_count": 64,
   "id": "3c6d58de-675f-469e-8167-27f42bccb0de",
   "metadata": {},
   "outputs": [
    {
     "data": {
      "text/plain": [
       "[13, 15, 17, 19]"
      ]
     },
     "execution_count": 64,
     "metadata": {},
     "output_type": "execute_result"
    }
   ],
   "source": [
    "k"
   ]
  },
  {
   "cell_type": "code",
   "execution_count": 66,
   "id": "f1e8ffd2-6983-4632-b403-2b0b9c08c0d1",
   "metadata": {},
   "outputs": [
    {
     "data": {
      "text/plain": [
       "[12, 14, 16, 18]"
      ]
     },
     "execution_count": 66,
     "metadata": {},
     "output_type": "execute_result"
    }
   ],
   "source": [
    "  j"
   ]
  },
  {
   "cell_type": "code",
   "execution_count": 78,
   "id": "acc6024d-0318-4d79-9372-9c21dc4208d2",
   "metadata": {},
   "outputs": [
    {
     "data": {
      "text/plain": [
       "[31, 45, 66, 33, 90, 78, 67, 87, 89, 93, 25, 59, 9, 81]"
      ]
     },
     "execution_count": 78,
     "metadata": {},
     "output_type": "execute_result"
    }
   ],
   "source": [
    "num=[31,45,66,33,90,78,67,87,89,93,25,59,9,81]\n",
    "num"
   ]
  },
  {
   "cell_type": "code",
   "execution_count": 80,
   "id": "f6788433-96c8-472b-8253-a0fe529042f0",
   "metadata": {},
   "outputs": [],
   "source": [
    "h=[]\n",
    "for i in num:\n",
    "    a=str(i)\n",
    "    b=a.replace('8','5')\n",
    "    c=int(b)\n",
    "    h.append(c)"
   ]
  },
  {
   "cell_type": "code",
   "execution_count": 84,
   "id": "f3d40914-a802-411f-9f13-34bb600e1114",
   "metadata": {},
   "outputs": [
    {
     "data": {
      "text/plain": [
       "[31, 45, 66, 33, 90, 75, 67, 57, 59, 93, 25, 59, 9, 51]"
      ]
     },
     "execution_count": 84,
     "metadata": {},
     "output_type": "execute_result"
    }
   ],
   "source": [
    "h"
   ]
  },
  {
   "cell_type": "code",
   "execution_count": 86,
   "id": "d27cba9e-5887-4f08-99aa-754813199bbb",
   "metadata": {},
   "outputs": [
    {
     "data": {
      "text/plain": [
       "'SolutiOns'"
      ]
     },
     "execution_count": 86,
     "metadata": {},
     "output_type": "execute_result"
    }
   ],
   "source": [
    "'SolutiOns'"
   ]
  },
  {
   "cell_type": "code",
   "execution_count": null,
   "id": "6df53fdc-7dc0-4e77-9a01-36ab7b536b57",
   "metadata": {},
   "outputs": [],
   "source": []
  }
 ],
 "metadata": {
  "kernelspec": {
   "display_name": "Python 3 (ipykernel)",
   "language": "python",
   "name": "python3"
  },
  "language_info": {
   "codemirror_mode": {
    "name": "ipython",
    "version": 3
   },
   "file_extension": ".py",
   "mimetype": "text/x-python",
   "name": "python",
   "nbconvert_exporter": "python",
   "pygments_lexer": "ipython3",
   "version": "3.12.4"
  }
 },
 "nbformat": 4,
 "nbformat_minor": 5
}
