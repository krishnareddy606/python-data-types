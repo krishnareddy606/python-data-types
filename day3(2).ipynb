{
 "cells": [
  {
   "cell_type": "code",
   "execution_count": 1,
   "id": "bb180c3a-bc58-4e31-8f8c-c3b01e76a5a7",
   "metadata": {},
   "outputs": [
    {
     "data": {
      "text/plain": [
       "(90, 40, 70, 30, 50, 60, 80, 10, 20, 20, 20, 20, 30, 40, 50)"
      ]
     },
     "execution_count": 1,
     "metadata": {},
     "output_type": "execute_result"
    }
   ],
   "source": [
    "h=(90,40,70,30,50,60,80,10,20,20,20,20,30,40,50)\n",
    "h"
   ]
  },
  {
   "cell_type": "code",
   "execution_count": 3,
   "id": "96623f0c-365e-4cff-8ec6-a92f9a8da953",
   "metadata": {},
   "outputs": [
    {
     "data": {
      "text/plain": [
       "tuple"
      ]
     },
     "execution_count": 3,
     "metadata": {},
     "output_type": "execute_result"
    }
   ],
   "source": [
    "type(h)"
   ]
  },
  {
   "cell_type": "code",
   "execution_count": 7,
   "id": "66007de3-93f3-4e08-bd9c-d64201e63b3a",
   "metadata": {},
   "outputs": [
    {
     "data": {
      "text/plain": [
       "2"
      ]
     },
     "execution_count": 7,
     "metadata": {},
     "output_type": "execute_result"
    }
   ],
   "source": [
    "h.count(30)"
   ]
  },
  {
   "cell_type": "code",
   "execution_count": 9,
   "id": "fa157792-5aab-4992-81a7-c5c8b3a62d57",
   "metadata": {},
   "outputs": [
    {
     "data": {
      "text/plain": [
       "4"
      ]
     },
     "execution_count": 9,
     "metadata": {},
     "output_type": "execute_result"
    }
   ],
   "source": [
    "h.index(50)"
   ]
  },
  {
   "cell_type": "code",
   "execution_count": 11,
   "id": "afc8534b-0a38-4362-b0db-9f8b862b1058",
   "metadata": {},
   "outputs": [
    {
     "data": {
      "text/plain": [
       "(90, 40, 70)"
      ]
     },
     "execution_count": 11,
     "metadata": {},
     "output_type": "execute_result"
    }
   ],
   "source": [
    "h[0:3]"
   ]
  },
  {
   "cell_type": "code",
   "execution_count": 13,
   "id": "6d56cb98-2123-4e95-893c-28ce08543947",
   "metadata": {},
   "outputs": [
    {
     "data": {
      "text/plain": [
       "{10, 20, 30, 40, 50, 60, 70, 80, 90}"
      ]
     },
     "execution_count": 13,
     "metadata": {},
     "output_type": "execute_result"
    }
   ],
   "source": [
    "s={80,90,70,50,40,60,30,10,20}\n",
    "s"
   ]
  },
  {
   "cell_type": "code",
   "execution_count": 15,
   "id": "1cba7722-070f-4479-b5d9-165715fbed6c",
   "metadata": {},
   "outputs": [
    {
     "data": {
      "text/plain": [
       "set"
      ]
     },
     "execution_count": 15,
     "metadata": {},
     "output_type": "execute_result"
    }
   ],
   "source": [
    "type(s)"
   ]
  },
  {
   "cell_type": "code",
   "execution_count": 19,
   "id": "4a4ce7a2-6a13-461e-8c63-35bcc538421b",
   "metadata": {},
   "outputs": [
    {
     "data": {
      "text/plain": [
       "{10, 20, 30, 34, 40, 50, 60, 70, 80, 90}"
      ]
     },
     "execution_count": 19,
     "metadata": {},
     "output_type": "execute_result"
    }
   ],
   "source": [
    "s.add(34)\n",
    "s"
   ]
  },
  {
   "cell_type": "code",
   "execution_count": 25,
   "id": "e3312fe5-440c-41dd-909a-abf1a6ed03b9",
   "metadata": {},
   "outputs": [
    {
     "data": {
      "text/plain": [
       "{10, 20, 30, 34, 40, 60, 70, 80}"
      ]
     },
     "execution_count": 25,
     "metadata": {},
     "output_type": "execute_result"
    }
   ],
   "source": [
    "s.remove(50)\n",
    "s"
   ]
  },
  {
   "cell_type": "code",
   "execution_count": 30,
   "id": "23d88636-37a8-4875-b397-74791090178b",
   "metadata": {},
   "outputs": [
    {
     "data": {
      "text/plain": [
       "{42, 43, 53, 84, 87, 94}"
      ]
     },
     "execution_count": 30,
     "metadata": {},
     "output_type": "execute_result"
    }
   ],
   "source": [
    "y={43,87,84,53,42,94}\n",
    "y"
   ]
  },
  {
   "cell_type": "code",
   "execution_count": 32,
   "id": "8674fcd0-8fa6-4592-b748-b1f236e31c90",
   "metadata": {},
   "outputs": [
    {
     "data": {
      "text/plain": [
       "set()"
      ]
     },
     "execution_count": 32,
     "metadata": {},
     "output_type": "execute_result"
    }
   ],
   "source": [
    "s.intersection(y)"
   ]
  },
  {
   "cell_type": "code",
   "execution_count": 34,
   "id": "2feb8e3e-43de-4d4e-9131-46578de1ca21",
   "metadata": {},
   "outputs": [
    {
     "data": {
      "text/plain": [
       "{10, 20, 30, 34, 40, 60, 70, 80}"
      ]
     },
     "execution_count": 34,
     "metadata": {},
     "output_type": "execute_result"
    }
   ],
   "source": [
    "s"
   ]
  },
  {
   "cell_type": "code",
   "execution_count": 36,
   "id": "8c9b0d07-cd7b-43cf-86de-6caab826cb98",
   "metadata": {},
   "outputs": [
    {
     "data": {
      "text/plain": [
       "{42, 43, 53, 84, 87, 94}"
      ]
     },
     "execution_count": 36,
     "metadata": {},
     "output_type": "execute_result"
    }
   ],
   "source": [
    "y"
   ]
  },
  {
   "cell_type": "code",
   "execution_count": 38,
   "id": "f0cf64f5-28c3-4377-876c-8d7a9be4ea3e",
   "metadata": {},
   "outputs": [
    {
     "data": {
      "text/plain": [
       "{42, 43, 53, 84, 87, 94}"
      ]
     },
     "execution_count": 38,
     "metadata": {},
     "output_type": "execute_result"
    }
   ],
   "source": [
    "y.difference(s)"
   ]
  },
  {
   "cell_type": "code",
   "execution_count": null,
   "id": "fe42211e-31d7-45e3-9d5d-66cca758ebd4",
   "metadata": {},
   "outputs": [],
   "source": [
    "s.sy"
   ]
  }
 ],
 "metadata": {
  "kernelspec": {
   "display_name": "Python 3 (ipykernel)",
   "language": "python",
   "name": "python3"
  },
  "language_info": {
   "codemirror_mode": {
    "name": "ipython",
    "version": 3
   },
   "file_extension": ".py",
   "mimetype": "text/x-python",
   "name": "python",
   "nbconvert_exporter": "python",
   "pygments_lexer": "ipython3",
   "version": "3.12.4"
  }
 },
 "nbformat": 4,
 "nbformat_minor": 5
}
