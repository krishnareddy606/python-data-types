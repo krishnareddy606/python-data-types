{
  "cells": [
    {
      "cell_type": "code",
      "execution_count": null,
      "id": "3b3e3814-9199-4af4-925b-9db09937db98",
      "metadata": {
        "id": "3b3e3814-9199-4af4-925b-9db09937db98",
        "outputId": "b675508d-9fba-4a4b-ca4e-765bcb5b5ad6"
      },
      "outputs": [
        {
          "data": {
            "text/plain": [
              "[203, 'Hyderabad', 45, True, 'Mumbai', 78, 175, 34.9]"
            ]
          },
          "execution_count": 1,
          "metadata": {},
          "output_type": "execute_result"
        }
      ],
      "source": [
        "m=[203,'Hyderabad',45,True,'Mumbai',78,175,34.90]\n",
        "m"
      ]
    },
    {
      "cell_type": "code",
      "execution_count": null,
      "id": "4940a1f6-3b37-4e7c-b08b-dcda501302fd",
      "metadata": {
        "id": "4940a1f6-3b37-4e7c-b08b-dcda501302fd",
        "outputId": "14b60e1e-fe67-4d56-b894-9bb09330d127"
      },
      "outputs": [
        {
          "data": {
            "text/plain": [
              "78"
            ]
          },
          "execution_count": 3,
          "metadata": {},
          "output_type": "execute_result"
        }
      ],
      "source": [
        "m[5]"
      ]
    },
    {
      "cell_type": "code",
      "execution_count": null,
      "id": "0e11b83f-ada7-4df9-a80b-228be0aceaf2",
      "metadata": {
        "id": "0e11b83f-ada7-4df9-a80b-228be0aceaf2",
        "outputId": "fe45825b-fca6-4304-85b3-418f105dd168"
      },
      "outputs": [
        {
          "data": {
            "text/plain": [
              "45"
            ]
          },
          "execution_count": 5,
          "metadata": {},
          "output_type": "execute_result"
        }
      ],
      "source": [
        "m[-6]"
      ]
    },
    {
      "cell_type": "code",
      "execution_count": null,
      "id": "36d0464e-4000-445d-8f25-394cb9ab536c",
      "metadata": {
        "id": "36d0464e-4000-445d-8f25-394cb9ab536c",
        "outputId": "47ff52e9-be97-4ae7-9979-e51a5115df57"
      },
      "outputs": [
        {
          "data": {
            "text/plain": [
              "34.9"
            ]
          },
          "execution_count": 9,
          "metadata": {},
          "output_type": "execute_result"
        }
      ],
      "source": [
        "m[7]"
      ]
    },
    {
      "cell_type": "code",
      "execution_count": null,
      "id": "7296d861-6eff-4785-87bd-1dd446911285",
      "metadata": {
        "id": "7296d861-6eff-4785-87bd-1dd446911285",
        "outputId": "4195dcb8-3596-4082-c6d7-065e3917150c"
      },
      "outputs": [
        {
          "data": {
            "text/plain": [
              "'Mumbai'"
            ]
          },
          "execution_count": 11,
          "metadata": {},
          "output_type": "execute_result"
        }
      ],
      "source": [
        "m[-4]"
      ]
    },
    {
      "cell_type": "code",
      "execution_count": null,
      "id": "e5e421ef-592a-4ba9-abc3-3a802ed82922",
      "metadata": {
        "id": "e5e421ef-592a-4ba9-abc3-3a802ed82922",
        "outputId": "4dafab5c-7c38-48a2-e070-b03b280ee205"
      },
      "outputs": [
        {
          "data": {
            "text/plain": [
              "78"
            ]
          },
          "execution_count": 13,
          "metadata": {},
          "output_type": "execute_result"
        }
      ],
      "source": [
        "m[-3]"
      ]
    },
    {
      "cell_type": "code",
      "execution_count": null,
      "id": "72038933-19d0-4bd1-b054-65cc725cc799",
      "metadata": {
        "id": "72038933-19d0-4bd1-b054-65cc725cc799",
        "outputId": "e3d02e1d-1cce-4af6-80ca-a261b1a18310"
      },
      "outputs": [
        {
          "data": {
            "text/plain": [
              "['Hyderabad', 45, True, 'Mumbai', 78]"
            ]
          },
          "execution_count": 15,
          "metadata": {},
          "output_type": "execute_result"
        }
      ],
      "source": [
        "m[1:6]"
      ]
    },
    {
      "cell_type": "code",
      "execution_count": null,
      "id": "2adcc8cd-1d8c-424c-ac97-75d5288f3045",
      "metadata": {
        "id": "2adcc8cd-1d8c-424c-ac97-75d5288f3045"
      },
      "outputs": [],
      "source": []
    }
  ],
  "metadata": {
    "kernelspec": {
      "display_name": "Python 3 (ipykernel)",
      "language": "python",
      "name": "python3"
    },
    "language_info": {
      "codemirror_mode": {
        "name": "ipython",
        "version": 3
      },
      "file_extension": ".py",
      "mimetype": "text/x-python",
      "name": "python",
      "nbconvert_exporter": "python",
      "pygments_lexer": "ipython3",
      "version": "3.12.4"
    },
    "colab": {
      "provenance": []
    }
  },
  "nbformat": 4,
  "nbformat_minor": 5
}