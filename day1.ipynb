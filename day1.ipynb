{
 "cells": [
  {
   "cell_type": "code",
   "execution_count": 7,
   "id": "edb811a6-4c22-4d5b-8fa5-5d8bc78f2ec3",
   "metadata": {},
   "outputs": [
    {
     "name": "stdout",
     "output_type": "stream",
     "text": [
      "<class 'str'>\n",
      "<class 'int'>\n",
      "<class 'float'>\n",
      "<class 'bool'>\n",
      "<class 'str'>\n"
     ]
    }
   ],
   "source": [
    "name = 'KRISHNA REDDY'\n",
    "\n",
    "age = 20\n",
    "\n",
    "height = 5.7\n",
    "\n",
    "trainer = False\n",
    "\n",
    "institution = 'Malla Reddy university'\n",
    "\n",
    "print(type(name))\n",
    "print(type(age))\n",
    "print(type(height))\n",
    "print(type(trainer))\n",
    "print(type(institution))"
   ]
  },
  {
   "cell_type": "code",
   "execution_count": 9,
   "id": "ee3db3d3-1c86-4b4b-8a09-86b8942e01d5",
   "metadata": {},
   "outputs": [
    {
     "data": {
      "text/plain": [
       "6"
      ]
     },
     "execution_count": 9,
     "metadata": {},
     "output_type": "execute_result"
    }
   ],
   "source": [
    "False +6\n"
   ]
  },
  {
   "cell_type": "code",
   "execution_count": 15,
   "id": "c36b4859-cc39-42e4-8aae-ba0abf0a7afe",
   "metadata": {},
   "outputs": [
    {
     "data": {
      "text/plain": [
       "9"
      ]
     },
     "execution_count": 15,
     "metadata": {},
     "output_type": "execute_result"
    }
   ],
   "source": [
    "z=9\n",
    "z"
   ]
  },
  {
   "cell_type": "code",
   "execution_count": 17,
   "id": "4ca2d5a8-bd4f-48fb-8eb6-e2847ee4a529",
   "metadata": {},
   "outputs": [
    {
     "data": {
      "text/plain": [
       "'india'"
      ]
     },
     "execution_count": 17,
     "metadata": {},
     "output_type": "execute_result"
    }
   ],
   "source": [
    "a='india'\n",
    "a"
   ]
  },
  {
   "cell_type": "code",
   "execution_count": 19,
   "id": "803abf04-a125-4901-9c64-eae7b756f64d",
   "metadata": {},
   "outputs": [
    {
     "data": {
      "text/plain": [
       "4"
      ]
     },
     "execution_count": 19,
     "metadata": {},
     "output_type": "execute_result"
    }
   ],
   "source": [
    "True+3\n",
    "1+3"
   ]
  },
  {
   "cell_type": "code",
   "execution_count": 21,
   "id": "d4780c68-4b9b-496d-a294-756f4affd2e2",
   "metadata": {},
   "outputs": [
    {
     "data": {
      "text/plain": [
       "int"
      ]
     },
     "execution_count": 21,
     "metadata": {},
     "output_type": "execute_result"
    }
   ],
   "source": [
    "type(z)"
   ]
  },
  {
   "cell_type": "code",
   "execution_count": 23,
   "id": "091fb666-6e20-40fa-b91c-6126334c4e05",
   "metadata": {},
   "outputs": [
    {
     "data": {
      "text/plain": [
       "9.0"
      ]
     },
     "execution_count": 23,
     "metadata": {},
     "output_type": "execute_result"
    }
   ],
   "source": [
    "y=float(z)\n",
    "y"
   ]
  },
  {
   "cell_type": "code",
   "execution_count": null,
   "id": "0b82d423-b57c-4256-85fe-b2156eb144d3",
   "metadata": {},
   "outputs": [],
   "source": [
    "type(z)"
   ]
  },
  {
   "cell_type": "code",
   "execution_count": 25,
   "id": "5c8078d9-9eb7-4f59-83f4-812bdf1b0d31",
   "metadata": {},
   "outputs": [
    {
     "data": {
      "text/plain": [
       "7"
      ]
     },
     "execution_count": 25,
     "metadata": {},
     "output_type": "execute_result"
    }
   ],
   "source": [
    "s=7\n",
    "s"
   ]
  },
  {
   "cell_type": "code",
   "execution_count": 27,
   "id": "2f13818a-8d33-4b85-919b-9282e3d39d77",
   "metadata": {},
   "outputs": [
    {
     "data": {
      "text/plain": [
       "'7'"
      ]
     },
     "execution_count": 27,
     "metadata": {},
     "output_type": "execute_result"
    }
   ],
   "source": [
    "str(s)"
   ]
  },
  {
   "cell_type": "code",
   "execution_count": 29,
   "id": "32194e71-9a85-4296-b297-f1b0526ba62e",
   "metadata": {},
   "outputs": [
    {
     "data": {
      "text/plain": [
       "int"
      ]
     },
     "execution_count": 29,
     "metadata": {},
     "output_type": "execute_result"
    }
   ],
   "source": [
    "type(s)"
   ]
  },
  {
   "cell_type": "code",
   "execution_count": 31,
   "id": "58c3e0cc-7c7c-4ade-9644-b986fbe45042",
   "metadata": {},
   "outputs": [
    {
     "data": {
      "text/plain": [
       "13"
      ]
     },
     "execution_count": 31,
     "metadata": {},
     "output_type": "execute_result"
    }
   ],
   "source": [
    "s+6"
   ]
  },
  {
   "cell_type": "code",
   "execution_count": 33,
   "id": "278ddc45-27e5-4b73-b390-a74aa7fea8ec",
   "metadata": {},
   "outputs": [
    {
     "data": {
      "text/plain": [
       "7"
      ]
     },
     "execution_count": 33,
     "metadata": {},
     "output_type": "execute_result"
    }
   ],
   "source": [
    "s=7\n",
    "s"
   ]
  },
  {
   "cell_type": "code",
   "execution_count": 35,
   "id": "9f4b695b-b6d0-4700-a20e-04fc0b45f8c4",
   "metadata": {},
   "outputs": [
    {
     "data": {
      "text/plain": [
       "int"
      ]
     },
     "execution_count": 35,
     "metadata": {},
     "output_type": "execute_result"
    }
   ],
   "source": [
    "type(s)"
   ]
  },
  {
   "cell_type": "code",
   "execution_count": 46,
   "id": "31693cdf-5874-4c32-97a8-899e51c34cf5",
   "metadata": {},
   "outputs": [],
   "source": [
    "# addition +\n",
    "# subtraction -\n",
    "# multiplication *\n",
    "# division /\n",
    "# power **"
   ]
  },
  {
   "cell_type": "code",
   "execution_count": 74,
   "id": "94b561a5-6463-4060-849e-25376f936f62",
   "metadata": {},
   "outputs": [],
   "source": [
    "a=50\n",
    "b=45"
   ]
  },
  {
   "cell_type": "code",
   "execution_count": 76,
   "id": "b3775628-0834-4647-9037-190f0a527c8d",
   "metadata": {},
   "outputs": [
    {
     "data": {
      "text/plain": [
       "28421709430404007434844970703125000000000000000000000000000000000000000000000"
      ]
     },
     "execution_count": 76,
     "metadata": {},
     "output_type": "execute_result"
    }
   ],
   "source": [
    "a ** b"
   ]
  },
  {
   "cell_type": "code",
   "execution_count": 78,
   "id": "cb97ac70-a268-42d3-b7ce-e7f901fb1a7c",
   "metadata": {},
   "outputs": [
    {
     "data": {
      "text/plain": [
       "50"
      ]
     },
     "execution_count": 78,
     "metadata": {},
     "output_type": "execute_result"
    }
   ],
   "source": [
    "a"
   ]
  },
  {
   "cell_type": "code",
   "execution_count": 80,
   "id": "4bb41415-b35e-4656-87ba-95442dc730be",
   "metadata": {},
   "outputs": [
    {
     "data": {
      "text/plain": [
       "45"
      ]
     },
     "execution_count": 80,
     "metadata": {},
     "output_type": "execute_result"
    }
   ],
   "source": [
    "b"
   ]
  },
  {
   "cell_type": "code",
   "execution_count": 82,
   "id": "6f0becdc-5a03-4930-924a-83ff5f5bbdf9",
   "metadata": {},
   "outputs": [
    {
     "data": {
      "text/plain": [
       "True"
      ]
     },
     "execution_count": 82,
     "metadata": {},
     "output_type": "execute_result"
    }
   ],
   "source": [
    "a>b"
   ]
  },
  {
   "cell_type": "code",
   "execution_count": 84,
   "id": "f72ebc52-7880-4ed8-9855-c454fad73832",
   "metadata": {},
   "outputs": [
    {
     "data": {
      "text/plain": [
       "False"
      ]
     },
     "execution_count": 84,
     "metadata": {},
     "output_type": "execute_result"
    }
   ],
   "source": [
    "a<b"
   ]
  },
  {
   "cell_type": "code",
   "execution_count": 86,
   "id": "fad5b882-ae5c-4c78-9171-e7abafd8c84b",
   "metadata": {},
   "outputs": [
    {
     "data": {
      "text/plain": [
       "False"
      ]
     },
     "execution_count": 86,
     "metadata": {},
     "output_type": "execute_result"
    }
   ],
   "source": [
    "a > 100"
   ]
  },
  {
   "cell_type": "code",
   "execution_count": 88,
   "id": "8246a2e8-4414-42cb-98d5-3cd0a0bf9871",
   "metadata": {},
   "outputs": [
    {
     "data": {
      "text/plain": [
       "False"
      ]
     },
     "execution_count": 88,
     "metadata": {},
     "output_type": "execute_result"
    }
   ],
   "source": [
    "(a> b) and (a> 100)"
   ]
  },
  {
   "cell_type": "code",
   "execution_count": 90,
   "id": "b809c411-7857-4c6f-990a-1e5eac59f3f9",
   "metadata": {},
   "outputs": [
    {
     "data": {
      "text/plain": [
       "True"
      ]
     },
     "execution_count": 90,
     "metadata": {},
     "output_type": "execute_result"
    }
   ],
   "source": [
    "(a> b) or (a> 100)"
   ]
  },
  {
   "cell_type": "code",
   "execution_count": 92,
   "id": "7fb4cb53-79c6-4608-996a-01490015e002",
   "metadata": {},
   "outputs": [
    {
     "data": {
      "text/plain": [
       "False"
      ]
     },
     "execution_count": 92,
     "metadata": {},
     "output_type": "execute_result"
    }
   ],
   "source": [
    "True and True\n",
    "True and False\n",
    "False and True\n",
    "False and False"
   ]
  },
  {
   "cell_type": "code",
   "execution_count": 94,
   "id": "7af8c58d-de0e-47c7-b772-133244b9de56",
   "metadata": {},
   "outputs": [
    {
     "data": {
      "text/plain": [
       "False"
      ]
     },
     "execution_count": 94,
     "metadata": {},
     "output_type": "execute_result"
    }
   ],
   "source": [
    "True or True\n",
    "True or False\n",
    "False or True\n",
    "False or False"
   ]
  },
  {
   "cell_type": "code",
   "execution_count": 108,
   "id": "a1a11d2b-4cc6-457c-9659-4ce1bfa468a6",
   "metadata": {},
   "outputs": [],
   "source": [
    "# q1\n",
    "x=34.56\n",
    "y=3.5\n",
    "\n",
    "# all arithmatic operators\n",
    "# all arithmatic operators\n",
    "# and or"
   ]
  },
  {
   "cell_type": "code",
   "execution_count": 104,
   "id": "eecf14b2-2b47-4467-bab9-5b3c3b795d58",
   "metadata": {},
   "outputs": [],
   "source": [
    "s=x+y"
   ]
  },
  {
   "cell_type": "code",
   "execution_count": 106,
   "id": "93a7e6f5-aa48-42a3-9930-23b57f9a3329",
   "metadata": {},
   "outputs": [],
   "source": [
    "s=x-y"
   ]
  },
  {
   "cell_type": "code",
   "execution_count": null,
   "id": "c82538ed-fcd9-459e-949b-38288f457e70",
   "metadata": {},
   "outputs": [],
   "source": [
    "s"
   ]
  }
 ],
 "metadata": {
  "kernelspec": {
   "display_name": "Python 3 (ipykernel)",
   "language": "python",
   "name": "python3"
  },
  "language_info": {
   "codemirror_mode": {
    "name": "ipython",
    "version": 3
   },
   "file_extension": ".py",
   "mimetype": "text/x-python",
   "name": "python",
   "nbconvert_exporter": "python",
   "pygments_lexer": "ipython3",
   "version": "3.12.4"
  }
 },
 "nbformat": 4,
 "nbformat_minor": 5
}
