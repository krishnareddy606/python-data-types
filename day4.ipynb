{
  "nbformat": 4,
  "nbformat_minor": 0,
  "metadata": {
    "colab": {
      "provenance": []
    },
    "kernelspec": {
      "name": "python3",
      "display_name": "Python 3"
    },
    "language_info": {
      "name": "python"
    }
  },
  "cells": [
    {
      "cell_type": "code",
      "execution_count": 2,
      "metadata": {
        "colab": {
          "base_uri": "https://localhost:8080/"
        },
        "id": "ueFWrmGJX6N0",
        "outputId": "14b6aea7-d070-41b1-f25a-5179418540c9"
      },
      "outputs": [
        {
          "output_type": "execute_result",
          "data": {
            "text/plain": [
              "{101: 4, 102: 7, 103: 2}"
            ]
          },
          "metadata": {},
          "execution_count": 2
        }
      ],
      "source": [
        "d={101:4,102:7,103:2}\n",
        "d"
      ]
    },
    {
      "cell_type": "code",
      "source": [
        "d[103]"
      ],
      "metadata": {
        "colab": {
          "base_uri": "https://localhost:8080/"
        },
        "id": "qp4EctjiYxtQ",
        "outputId": "79d7a47f-4f00-4ca7-905b-520a5b6b45de"
      },
      "execution_count": 3,
      "outputs": [
        {
          "output_type": "execute_result",
          "data": {
            "text/plain": [
              "2"
            ]
          },
          "metadata": {},
          "execution_count": 3
        }
      ]
    },
    {
      "cell_type": "code",
      "source": [
        "d[102]=4000\n",
        "d"
      ],
      "metadata": {
        "colab": {
          "base_uri": "https://localhost:8080/"
        },
        "id": "xEqr6Z23Y3JA",
        "outputId": "a4584b6c-7502-4620-bb0a-ff344596d4ac"
      },
      "execution_count": 4,
      "outputs": [
        {
          "output_type": "execute_result",
          "data": {
            "text/plain": [
              "{101: 4, 102: 4000, 103: 2}"
            ]
          },
          "metadata": {},
          "execution_count": 4
        }
      ]
    },
    {
      "cell_type": "code",
      "source": [
        "d.update({101:99})\n",
        "d"
      ],
      "metadata": {
        "colab": {
          "base_uri": "https://localhost:8080/"
        },
        "id": "syuB5QrWY9f7",
        "outputId": "eaee09b7-f862-463b-8881-ab3c0ff6165c"
      },
      "execution_count": 7,
      "outputs": [
        {
          "output_type": "execute_result",
          "data": {
            "text/plain": [
              "{101: 99, 102: 4000, 103: 2}"
            ]
          },
          "metadata": {},
          "execution_count": 7
        }
      ]
    },
    {
      "cell_type": "code",
      "source": [
        "d.update({101:'India'})\n",
        "d"
      ],
      "metadata": {
        "colab": {
          "base_uri": "https://localhost:8080/"
        },
        "id": "bMKat-NMZKbb",
        "outputId": "b53a6a72-ed41-4230-ad82-3322c4279fa7"
      },
      "execution_count": 10,
      "outputs": [
        {
          "output_type": "execute_result",
          "data": {
            "text/plain": [
              "{101: 'India', 102: 4000, 103: 2}"
            ]
          },
          "metadata": {},
          "execution_count": 10
        }
      ]
    },
    {
      "cell_type": "code",
      "source": [
        "d[101]"
      ],
      "metadata": {
        "colab": {
          "base_uri": "https://localhost:8080/",
          "height": 35
        },
        "id": "EnnXT5GaaNAl",
        "outputId": "77404838-dab4-4516-e81a-d08a8d802a2c"
      },
      "execution_count": 11,
      "outputs": [
        {
          "output_type": "execute_result",
          "data": {
            "text/plain": [
              "'India'"
            ],
            "application/vnd.google.colaboratory.intrinsic+json": {
              "type": "string"
            }
          },
          "metadata": {},
          "execution_count": 11
        }
      ]
    },
    {
      "cell_type": "code",
      "source": [
        "d.update({105:5000})\n",
        "d"
      ],
      "metadata": {
        "colab": {
          "base_uri": "https://localhost:8080/"
        },
        "id": "DdmOWpj6astR",
        "outputId": "f4a911f3-fec6-41b6-875c-14787625a1f3"
      },
      "execution_count": 12,
      "outputs": [
        {
          "output_type": "execute_result",
          "data": {
            "text/plain": [
              "{101: 'India', 102: 4000, 103: 2, 105: 5000}"
            ]
          },
          "metadata": {},
          "execution_count": 12
        }
      ]
    },
    {
      "cell_type": "code",
      "source": [
        "d.values()"
      ],
      "metadata": {
        "colab": {
          "base_uri": "https://localhost:8080/"
        },
        "id": "Z3P8L7t2blfe",
        "outputId": "a2dde936-0fde-4081-aa6b-315649affbd4"
      },
      "execution_count": 13,
      "outputs": [
        {
          "output_type": "execute_result",
          "data": {
            "text/plain": [
              "dict_values(['India', 4000, 2, 5000])"
            ]
          },
          "metadata": {},
          "execution_count": 13
        }
      ]
    },
    {
      "cell_type": "code",
      "source": [
        "d[104]=[1000,5000,6000,7000]\n",
        "d"
      ],
      "metadata": {
        "colab": {
          "base_uri": "https://localhost:8080/"
        },
        "id": "5FApoM-Fbx8F",
        "outputId": "f4f0b3ec-943e-44cd-88b2-0840cf7aa138"
      },
      "execution_count": 18,
      "outputs": [
        {
          "output_type": "execute_result",
          "data": {
            "text/plain": [
              "{101: 'India', 102: 4000, 103: 2, 105: 5000, 104: [1000, 5000, 6000, 7000]}"
            ]
          },
          "metadata": {},
          "execution_count": 18
        }
      ]
    },
    {
      "cell_type": "code",
      "source": [
        "#d.update({1000,5000,6000,7000})\n",
        "d"
      ],
      "metadata": {
        "colab": {
          "base_uri": "https://localhost:8080/"
        },
        "id": "X5_IjKq3dV_G",
        "outputId": "1e1cf67d-804b-4c04-991f-5e6c90110abd"
      },
      "execution_count": 19,
      "outputs": [
        {
          "output_type": "execute_result",
          "data": {
            "text/plain": [
              "{101: 'India', 102: 4000, 103: 2, 105: 5000, 104: [1000, 5000, 6000, 7000]}"
            ]
          },
          "metadata": {},
          "execution_count": 19
        }
      ]
    },
    {
      "cell_type": "code",
      "source": [
        "type(d)"
      ],
      "metadata": {
        "colab": {
          "base_uri": "https://localhost:8080/"
        },
        "id": "Mgxp3q5GeJSq",
        "outputId": "b0e063f0-83d0-4d3a-efe8-e01b372e7b30"
      },
      "execution_count": 20,
      "outputs": [
        {
          "output_type": "execute_result",
          "data": {
            "text/plain": [
              "dict"
            ]
          },
          "metadata": {},
          "execution_count": 20
        }
      ]
    },
    {
      "cell_type": "code",
      "source": [
        "type(d[102])"
      ],
      "metadata": {
        "colab": {
          "base_uri": "https://localhost:8080/"
        },
        "id": "Afi9xSufeONt",
        "outputId": "b6121fb9-690e-4114-f75a-83ee83e79a7c"
      },
      "execution_count": 21,
      "outputs": [
        {
          "output_type": "execute_result",
          "data": {
            "text/plain": [
              "int"
            ]
          },
          "metadata": {},
          "execution_count": 21
        }
      ]
    },
    {
      "cell_type": "code",
      "source": [
        "d"
      ],
      "metadata": {
        "colab": {
          "base_uri": "https://localhost:8080/"
        },
        "id": "r6hIVgsYeTKn",
        "outputId": "bee2bffb-007e-47d8-d189-c810aafb746a"
      },
      "execution_count": 25,
      "outputs": [
        {
          "output_type": "execute_result",
          "data": {
            "text/plain": [
              "{101: 'India', 102: 4000, 103: 2, 105: 5000, 104: [1000, 5000, 6000, 7000]}"
            ]
          },
          "metadata": {},
          "execution_count": 25
        }
      ]
    },
    {
      "cell_type": "code",
      "source": [
        "type(d[104])"
      ],
      "metadata": {
        "colab": {
          "base_uri": "https://localhost:8080/"
        },
        "id": "6c4iesY3epaN",
        "outputId": "2dc7f880-34a0-48aa-d041-ae1eef433f6f"
      },
      "execution_count": 26,
      "outputs": [
        {
          "output_type": "execute_result",
          "data": {
            "text/plain": [
              "list"
            ]
          },
          "metadata": {},
          "execution_count": 26
        }
      ]
    },
    {
      "cell_type": "code",
      "source": [
        "type(d[105])"
      ],
      "metadata": {
        "colab": {
          "base_uri": "https://localhost:8080/"
        },
        "id": "gYIXFF-EeuJg",
        "outputId": "0bf27e7f-3aa4-44c3-ff07-2373672dfe41"
      },
      "execution_count": 27,
      "outputs": [
        {
          "output_type": "execute_result",
          "data": {
            "text/plain": [
              "int"
            ]
          },
          "metadata": {},
          "execution_count": 27
        }
      ]
    },
    {
      "cell_type": "code",
      "source": [
        "d.update({103:(30,40,60,50)})\n",
        "d"
      ],
      "metadata": {
        "colab": {
          "base_uri": "https://localhost:8080/"
        },
        "id": "Bhg0mkj8e1q4",
        "outputId": "f133a7fc-f63d-434b-e02a-e14a28e69c02"
      },
      "execution_count": 30,
      "outputs": [
        {
          "output_type": "execute_result",
          "data": {
            "text/plain": [
              "{101: 'India',\n",
              " 102: 4000,\n",
              " 103: (30, 40, 60, 50),\n",
              " 105: 5000,\n",
              " 104: [1000, 5000, 6000, 7000]}"
            ]
          },
          "metadata": {},
          "execution_count": 30
        }
      ]
    },
    {
      "cell_type": "code",
      "source": [
        "d[101]={50:[7,8,9,10],'apple':(20,10,70,[90,180,270])}\n",
        "d"
      ],
      "metadata": {
        "colab": {
          "base_uri": "https://localhost:8080/"
        },
        "id": "0EKlBuF1i2Pt",
        "outputId": "877195fe-593b-4184-a6d9-2a33e04a34b5"
      },
      "execution_count": 38,
      "outputs": [
        {
          "output_type": "execute_result",
          "data": {
            "text/plain": [
              "{101: {50: [7, 8, 9, 10], 'apple': (20, 10, 70, [90, 180, 270])},\n",
              " 102: 4000,\n",
              " 103: (30, 40, 60, 50),\n",
              " 105: {'a': {30, 50, 70},\n",
              "  'b': (1000, 5000, 7000, 9000),\n",
              "  'c': ['K', {'L': [11, 22], 'M': (77, 88)}, 'N']},\n",
              " 104: [1000, 5000, 6000, 7000]}"
            ]
          },
          "metadata": {},
          "execution_count": 38
        }
      ]
    },
    {
      "cell_type": "code",
      "source": [
        "d[105]={'a':{30,50,70},'b':(1000,5000,7000,9000),'c':['K',{'L':[11,22],'M':(77,88)},'N']}\n",
        "d"
      ],
      "metadata": {
        "colab": {
          "base_uri": "https://localhost:8080/"
        },
        "id": "dWa3eyOPfzeX",
        "outputId": "5217cd67-fb13-4877-942c-5a8134ad21f1"
      },
      "execution_count": 35,
      "outputs": [
        {
          "output_type": "execute_result",
          "data": {
            "text/plain": [
              "{101: {50: [7, 8, 9, 10], 'apple': (20, 10, 70, [90, 180, 270])},\n",
              " 102: 4000,\n",
              " 103: (30, 40, 60, 50),\n",
              " 105: {'a': {30, 50, 70},\n",
              "  'b': (1000, 5000, 7000, 9000),\n",
              "  'c': ['K', {'L': [11, 22], 'M': (77, 88)}, 'N']},\n",
              " 104: [1000, 5000, 6000, 7000]}"
            ]
          },
          "metadata": {},
          "execution_count": 35
        }
      ]
    },
    {
      "cell_type": "code",
      "source": [
        "d[101]"
      ],
      "metadata": {
        "colab": {
          "base_uri": "https://localhost:8080/"
        },
        "id": "xxDHKEdFjQYA",
        "outputId": "e5177b07-8d27-4550-d890-b2a26956beef"
      },
      "execution_count": 39,
      "outputs": [
        {
          "output_type": "execute_result",
          "data": {
            "text/plain": [
              "{50: [7, 8, 9, 10], 'apple': (20, 10, 70, [90, 180, 270])}"
            ]
          },
          "metadata": {},
          "execution_count": 39
        }
      ]
    },
    {
      "cell_type": "code",
      "source": [
        "d[101]['apple']"
      ],
      "metadata": {
        "colab": {
          "base_uri": "https://localhost:8080/"
        },
        "id": "jHqjn3UWjUVB",
        "outputId": "1db5f5e2-df3b-4547-b4e9-fc1d7527916e"
      },
      "execution_count": 40,
      "outputs": [
        {
          "output_type": "execute_result",
          "data": {
            "text/plain": [
              "(20, 10, 70, [90, 180, 270])"
            ]
          },
          "metadata": {},
          "execution_count": 40
        }
      ]
    },
    {
      "cell_type": "code",
      "source": [
        "d[101][50]"
      ],
      "metadata": {
        "colab": {
          "base_uri": "https://localhost:8080/"
        },
        "id": "-vX7cDgTjZRl",
        "outputId": "78fecd52-264f-4a51-e59f-cbc441c6ac6b"
      },
      "execution_count": 41,
      "outputs": [
        {
          "output_type": "execute_result",
          "data": {
            "text/plain": [
              "[7, 8, 9, 10]"
            ]
          },
          "metadata": {},
          "execution_count": 41
        }
      ]
    },
    {
      "cell_type": "code",
      "source": [
        "d[101]['apple'][3][1]"
      ],
      "metadata": {
        "colab": {
          "base_uri": "https://localhost:8080/"
        },
        "id": "eSQx-FDmjd8P",
        "outputId": "b6f94d94-99cf-4da1-9b09-eb78e58061ea"
      },
      "execution_count": 43,
      "outputs": [
        {
          "output_type": "execute_result",
          "data": {
            "text/plain": [
              "180"
            ]
          },
          "metadata": {},
          "execution_count": 43
        }
      ]
    }
  ]
}