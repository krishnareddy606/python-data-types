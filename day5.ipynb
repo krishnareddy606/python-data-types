{
 "cells": [
  {
   "cell_type": "code",
   "execution_count": 1,
   "id": "aec1ab01-82e9-4c4a-ab5b-b5a52d9dab12",
   "metadata": {},
   "outputs": [
    {
     "name": "stdout",
     "output_type": "stream",
     "text": [
      "Odd\n"
     ]
    }
   ],
   "source": [
    "x=9\n",
    "if x%2==0:\n",
    "    print(\"Even\")\n",
    "else:\n",
    "    print(\"Odd\")"
   ]
  },
  {
   "cell_type": "code",
   "execution_count": 3,
   "id": "472cd562-58bb-45e7-9f32-b3a2db46afaf",
   "metadata": {},
   "outputs": [
    {
     "data": {
      "text/plain": [
       "False"
      ]
     },
     "execution_count": 3,
     "metadata": {},
     "output_type": "execute_result"
    }
   ],
   "source": [
    "x%2==0"
   ]
  },
  {
   "cell_type": "code",
   "execution_count": 7,
   "id": "16e6176b-89dd-4d6e-966d-e6976e55d336",
   "metadata": {},
   "outputs": [
    {
     "data": {
      "text/plain": [
       "0"
      ]
     },
     "execution_count": 7,
     "metadata": {},
     "output_type": "execute_result"
    }
   ],
   "source": [
    "x=8\n",
    "x%2"
   ]
  },
  {
   "cell_type": "code",
   "execution_count": 9,
   "id": "4c60d02a-fa40-4f6d-97a3-d39afd365942",
   "metadata": {},
   "outputs": [
    {
     "data": {
      "text/plain": [
       "True"
      ]
     },
     "execution_count": 9,
     "metadata": {},
     "output_type": "execute_result"
    }
   ],
   "source": [
    "x%2==0"
   ]
  },
  {
   "cell_type": "code",
   "execution_count": 17,
   "id": "d98d64ee-0c1f-4c86-8de5-0e2bc1aa581d",
   "metadata": {},
   "outputs": [
    {
     "name": "stdout",
     "output_type": "stream",
     "text": [
      "pos\n"
     ]
    }
   ],
   "source": [
    "x=7\n",
    "if x>0:\n",
    "    print('pos')\n",
    "elif x<0:\n",
    "    print('neg')\n",
    "else:\n",
    "    print('zero')"
   ]
  },
  {
   "cell_type": "code",
   "execution_count": 27,
   "id": "c3d94836-741a-47b9-b241-c84bd72d370f",
   "metadata": {},
   "outputs": [
    {
     "name": "stdout",
     "output_type": "stream",
     "text": [
      "M\n"
     ]
    }
   ],
   "source": [
    "y=9\n",
    "if y>5:\n",
    "    print('M')\n",
    "elif y<4:\n",
    "    print('K')\n",
    "elif y>7:\n",
    "    print('H')\n",
    "else:\n",
    "    print('O')"
   ]
  },
  {
   "cell_type": "code",
   "execution_count": 29,
   "id": "0ebde845-a4a8-4125-ae91-e03f20ac985f",
   "metadata": {},
   "outputs": [
    {
     "data": {
      "text/plain": [
       "'hyderbad'"
      ]
     },
     "execution_count": 29,
     "metadata": {},
     "output_type": "execute_result"
    }
   ],
   "source": [
    "t='hyderbad'\n",
    "t"
   ]
  },
  {
   "cell_type": "code",
   "execution_count": 31,
   "id": "e621699d-5b99-47e8-a119-902c34f32869",
   "metadata": {},
   "outputs": [
    {
     "data": {
      "text/plain": [
       "str"
      ]
     },
     "execution_count": 31,
     "metadata": {},
     "output_type": "execute_result"
    }
   ],
   "source": [
    "type(t)"
   ]
  },
  {
   "cell_type": "code",
   "execution_count": 33,
   "id": "f09b191d-c448-4b50-9df7-e04ce3d0a00b",
   "metadata": {},
   "outputs": [
    {
     "data": {
      "text/plain": [
       "'HYDERBAD'"
      ]
     },
     "execution_count": 33,
     "metadata": {},
     "output_type": "execute_result"
    }
   ],
   "source": [
    "t.upper()"
   ]
  },
  {
   "cell_type": "code",
   "execution_count": 35,
   "id": "48bb2bf8-f513-4767-ba9b-b05d5b85ddba",
   "metadata": {},
   "outputs": [
    {
     "data": {
      "text/plain": [
       "True"
      ]
     },
     "execution_count": 35,
     "metadata": {},
     "output_type": "execute_result"
    }
   ],
   "source": [
    "t.isalpha()"
   ]
  },
  {
   "cell_type": "code",
   "execution_count": 41,
   "id": "85ef800f-75d8-4024-9c0b-1d8ccd84cc84",
   "metadata": {},
   "outputs": [
    {
     "data": {
      "text/plain": [
       "'a'"
      ]
     },
     "execution_count": 41,
     "metadata": {},
     "output_type": "execute_result"
    }
   ],
   "source": [
    "t[-2]"
   ]
  },
  {
   "cell_type": "code",
   "execution_count": 54,
   "id": "5a8f9ed5-6a89-4482-9c80-78d19c891023",
   "metadata": {},
   "outputs": [],
   "source": [
    "x='telangana'\n",
    "x='Tiger'\n",
    "x='Tan'"
   ]
  },
  {
   "cell_type": "code",
   "execution_count": 56,
   "id": "ce7f7bfd-aefa-4fa8-bfac-9acbaafda24a",
   "metadata": {},
   "outputs": [],
   "source": [
    "x='lion'\n",
    "x='Mumbai'"
   ]
  },
  {
   "cell_type": "code",
   "execution_count": 70,
   "id": "d98ecfe4-ecd9-4493-99ee-701326b25123",
   "metadata": {},
   "outputs": [
    {
     "name": "stdout",
     "output_type": "stream",
     "text": [
      "Yes\n"
     ]
    }
   ],
   "source": [
    "x='telangana'\n",
    "if x[0]=='t' or x[0]=='T':\n",
    "    print('Yes')\n",
    "else:\n",
    "    print('No')"
   ]
  },
  {
   "cell_type": "code",
   "execution_count": 72,
   "id": "a4bc635c-fcd7-4a70-97a0-a0701f9a0101",
   "metadata": {},
   "outputs": [],
   "source": [
    "a=str(input"
   ]
  },
  {
   "cell_type": "code",
   "execution_count": 80,
   "id": "4aaa6165-6919-4558-b406-7c8e1c3a37fc",
   "metadata": {},
   "outputs": [
    {
     "name": "stdout",
     "output_type": "stream",
     "text": [
      "No\n"
     ]
    }
   ],
   "source": [
    "x='apple'\n",
    "if x[0]=='t' or x[0]=='A':\n",
    "    print('Yes')\n",
    "else:\n",
    "    print('No')"
   ]
  },
  {
   "cell_type": "code",
   "execution_count": 98,
   "id": "360ec941-8950-41e3-aa80-fa1e5ace7d32",
   "metadata": {},
   "outputs": [
    {
     "name": "stdout",
     "output_type": "stream",
     "text": [
      "No\n"
     ]
    }
   ],
   "source": [
    "if x[0]=='s' or x[0]=='S' or x[0]=='m' or x[0]=='M' or x[0]=='h'or x[0]=='h':\n",
    "    print('Yes')\n",
    "else:\n",
    "    print('No')"
   ]
  },
  {
   "cell_type": "code",
   "execution_count": null,
   "id": "1e24832e-92f9-43d0-a7a5-d00cb62e9f2f",
   "metadata": {},
   "outputs": [],
   "source": [
    "if x[0]."
   ]
  }
 ],
 "metadata": {
  "kernelspec": {
   "display_name": "Python 3 (ipykernel)",
   "language": "python",
   "name": "python3"
  },
  "language_info": {
   "codemirror_mode": {
    "name": "ipython",
    "version": 3
   },
   "file_extension": ".py",
   "mimetype": "text/x-python",
   "name": "python",
   "nbconvert_exporter": "python",
   "pygments_lexer": "ipython3",
   "version": "3.12.4"
  }
 },
 "nbformat": 4,
 "nbformat_minor": 5
}
