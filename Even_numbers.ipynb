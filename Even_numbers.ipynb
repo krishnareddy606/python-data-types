{
 "cells": [
  {
   "cell_type": "code",
   "execution_count": null,
   "id": "87d9f6a7-1aed-4388-9376-cc8533bfe54a",
   "metadata": {},
   "outputs": [],
   "source": [
    "def sum_of_even_numbers(n):\n",
    "    total_sum = 0\n",
    "    for number in range(1, n + 1):\n",
    "        if number % 2 == 0:\n",
    "            total_sum += number\n",
    "    return total_sum\n",
    "n = int(input(\"Enter a positive integer: \"))\n",
    "result = sum_of_even_numbers(n)\n",
    "print(f\"The sum of all even numbers between 1 and {n} is: {result}\")"
   ]
  },
  {
   "cell_type": "code",
   "execution_count": null,
   "id": "72a497d0-351d-4d60-810f-35dbc3824e0c",
   "metadata": {},
   "outputs": [],
   "source": []
  }
 ],
 "metadata": {
  "kernelspec": {
   "display_name": "Python 3 (ipykernel)",
   "language": "python",
   "name": "python3"
  },
  "language_info": {
   "codemirror_mode": {
    "name": "ipython",
    "version": 3
   },
   "file_extension": ".py",
   "mimetype": "text/x-python",
   "name": "python",
   "nbconvert_exporter": "python",
   "pygments_lexer": "ipython3",
   "version": "3.12.4"
  }
 },
 "nbformat": 4,
 "nbformat_minor": 5
}
